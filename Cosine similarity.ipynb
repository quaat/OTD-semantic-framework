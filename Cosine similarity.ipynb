{
 "cells": [
  {
   "cell_type": "code",
   "execution_count": 30,
   "metadata": {},
   "outputs": [
    {
     "data": {
      "text/plain": [
       "array([[0.85672694, 0.84930019],\n",
       "       [0.84930019, 0.868134  ]])"
      ]
     },
     "execution_count": 30,
     "metadata": {},
     "output_type": "execute_result"
    }
   ],
   "source": [
    "import pandas as pd\n",
    "from sklearn.metrics.pairwise import cosine_similarity, sigmoid_kernel\n",
    "\n",
    "a = [0.8, 0.0, 0.0, 0.0, 0.0, 1.0, 0.9, 0.8, 0.0, 0.0, 0.0]\n",
    "b = [0.8, 0.0, 0.0, 0.0, 1.0, 0.7, 0.9, 0.8, 0.0, 0.0, 0.0]\n",
    "\n",
    "df = pd.DataFrame(data=[a, b], columns=['a', 'b', 'c', 'd', 'e', 'f', 'g', 'h', 'i', 'j', 'k'])\n",
    "sigmoid_kernel(df)"
   ]
  },
  {
   "cell_type": "code",
   "execution_count": 26,
   "metadata": {},
   "outputs": [
    {
     "data": {
      "text/plain": [
       "array([[1.        , 0.83884834],\n",
       "       [0.83884834, 1.        ]])"
      ]
     },
     "execution_count": 26,
     "metadata": {},
     "output_type": "execute_result"
    }
   ],
   "source": [
    "a = [0.8, 0.0, 1.0, 0.9, 0.8, 0.0]\n",
    "b = [0.8, 1.0, 0.7, 0.9, 0.8, 0.0]\n",
    "\n",
    "df = pd.DataFrame(data=[a, b], columns=['a', 'b', 'c', 'd', 'e', 'f'])\n",
    "cosine_similarity(df)"
   ]
  },
  {
   "cell_type": "code",
   "execution_count": 29,
   "metadata": {},
   "outputs": [
    {
     "data": {
      "text/plain": [
       "array([[1.        , 0.57346234],\n",
       "       [0.57346234, 1.        ]])"
      ]
     },
     "execution_count": 29,
     "metadata": {},
     "output_type": "execute_result"
    }
   ],
   "source": [
    "a = [0.0, 1.0]\n",
    "b = [1.0, 0.7]\n",
    "\n",
    "df = pd.DataFrame(data=[a, b], columns=['a', 'b'])\n",
    "#cosine_similarity(df)"
   ]
  }
 ],
 "metadata": {
  "kernelspec": {
   "display_name": "Python 3",
   "language": "python",
   "name": "python3"
  },
  "language_info": {
   "codemirror_mode": {
    "name": "ipython",
    "version": 3
   },
   "file_extension": ".py",
   "mimetype": "text/x-python",
   "name": "python",
   "nbconvert_exporter": "python",
   "pygments_lexer": "ipython3",
   "version": "3.6.3"
  }
 },
 "nbformat": 4,
 "nbformat_minor": 2
}
