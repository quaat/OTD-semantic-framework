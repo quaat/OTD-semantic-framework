{
 "cells": [
  {
   "cell_type": "code",
   "execution_count": 26,
   "metadata": {},
   "outputs": [
    {
     "name": "stdout",
     "output_type": "stream",
     "text": [
      "None\n"
     ]
    }
   ],
   "source": [
    "from rdflib import Graph\n",
    "from rdflib import URIRef, Graph, BNode, Literal\n",
    "from rdflib import Namespace\n",
    "from rdflib.namespace import RDF, RDFS, OWL, DC, FOAF, XSD, SKOS\n",
    "from odt.skosnavigate import SKOSNavigate\n",
    "from uuid import uuid4\n",
    "import pandas as pd\n",
    "import numpy as np \n",
    "\n",
    "ODT = Namespace('http://www.quaat.com/ontologies#')\n",
    "DCAT = Namespace('http://www.w3.org/ns/dcat#')\n",
    "DCT = Namespace('http://purl.org/dc/terms/')\n",
    "ODTX = Namespace('http://www.quaat.com/ontology/ODTX#')\n",
    "QEX = Namespace('http://www.quaat.com/extended_skos#')\n",
    "VCARD = Namespace('http://www.w3.org/2006/vcard/ns#')\n",
    "WN20SCHEMA = Namespace('http://www.w3.org/2006/03/wn/wn20/schema/')\n",
    "DN = Namespace('http://www.wordnet.dk/owl/instance/2009/03/instances/')\n",
    "DN_SCHEMA = Namespace('http://www.wordnet.dk/owl/instance/2009/03/schema/')\n",
    "\n",
    "def add_similarity_link(graph, dataset, concept, score):\n",
    "    uuid = uuid4().hex\n",
    "    simlink = URIRef(QEX[uuid])\n",
    "    graph.add((simlink, RDF.type, ODT.Similarity))\n",
    "    graph.add((simlink, ODT.dataset, dataset))\n",
    "    graph.add((simlink, ODT.concept, concept))\n",
    "    graph.add((simlink, ODT.score, Literal(score, datatype=XSD.double)))\n",
    "    return simlink\n",
    "\n",
    "\n",
    "graph = Graph()\n",
    "graph.parse('odt-ontology-v1.0.rdf')\n",
    "graph.parse('norwegian-datasets.rdf')\n",
    "#graph.parse('http://78.91.98.234:5000/dataset/trafikkdata-fra-jernbaneverket.rdf')\n",
    "#graph.parse('http://78.91.98.234:5000/dataset/anleggsregister.rdf')\n",
    "\n",
    "#for dataset in graph.subjects(RDF.type, DCAT.Dataset):\n",
    "#    print (dataset)\n",
    "\n",
    "#dataset = next(graph.subjects(None, DCAT.Dataset))\n",
    "#for concept in graph.subjects(None, SKOS.Concept):\n",
    "#    print (concept)\n",
    "dataset = next(graph.subjects(RDF.about, URIRef('http://78.91.98.234/dataset/f2c97ee0-6cad-4833-92fb-4a21d8b68b74')), None)\n",
    "print (dataset)\n",
    "    \n",
    "    \n",
    "    \n",
    "#output = Graph()\n",
    "#ODT = Namespace('http://www.quaat.com/ontologies#')\n",
    "#output.bind('odt', ODT)\n",
    "#add_similarity_link(output, ODT.Route)\n",
    "#\n",
    "#\n",
    "#output.serialize(destination='tagget-similarities.json', format=\"json-ld\")\n"
   ]
  }
 ],
 "metadata": {
  "kernelspec": {
   "display_name": "Python 3",
   "language": "python",
   "name": "python3"
  },
  "language_info": {
   "codemirror_mode": {
    "name": "ipython",
    "version": 3
   },
   "file_extension": ".py",
   "mimetype": "text/x-python",
   "name": "python",
   "nbconvert_exporter": "python",
   "pygments_lexer": "ipython3",
   "version": "3.6.3"
  }
 },
 "nbformat": 4,
 "nbformat_minor": 2
}
